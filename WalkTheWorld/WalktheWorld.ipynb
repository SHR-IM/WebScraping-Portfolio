{
 "cells": [
  {
   "cell_type": "markdown",
   "id": "04f4d512",
   "metadata": {},
   "source": [
    "# Walk the World: A Land Journey Explorer\n",
    "**Author**: Sahar Imani \n",
    "\n",
    "This project implements a program to determine if a land route exists between two cities in the world. If possible, it calculates the shortest path with the minimum number of border crossings and provides key details about the countries along the route. The project utilizes **web scraping**, **graph traversal algorithms**, and **data analysis** to achieve its goals.\n"
   ]
  },
  {
   "cell_type": "markdown",
   "id": "c5541434",
   "metadata": {},
   "source": [
    "## Project Overview\n",
    "\n",
    "### Objectives:\n",
    "1. **Determine Connectivity**: Check if two cities can be connected on foot without crossing oceans.\n",
    "2. **Shortest Path**: Find the route with the minimum number of border crossings.\n",
    "3. **Country Insights**: Provide information about the largest, most populous, and richest countries along the route.\n",
    "\n",
    "### Features:\n",
    "- **Input Validation**: Confirms that both cities exist on Wikipedia.\n",
    "- **Ocean Separation Check**: Identifies if the cities are separated by an ocean using their respective continents.\n",
    "- **Shortest Path Calculation**: Uses a breadth-first search (BFS) algorithm on a graph of countries to determine the shortest route.\n",
    "- **Country Data Extraction**: Scrapes Wikipedia for detailed information about countries along the route.\n"
   ]
  },
  {
   "cell_type": "markdown",
   "id": "ca80b2e2",
   "metadata": {},
   "source": [
    "## Methodology"
   ]
  },
  {
   "cell_type": "markdown",
   "id": "4f5287e7",
   "metadata": {},
   "source": [
    "### 1. Input Validation\n",
    "- Verifies if Wikipedia pages exist for the input cities using **requests** and **BeautifulSoup**.\n",
    "- Ends with an error message if a city's page does not exist."
   ]
  },
  {
   "cell_type": "code",
   "execution_count": 1,
   "id": "56459288",
   "metadata": {},
   "outputs": [],
   "source": [
    "import requests\n",
    "from bs4 import BeautifulSoup\n",
    "from lxml import html\n",
    "from collections import deque\n",
    "from lxml import html\n"
   ]
  },
  {
   "cell_type": "code",
   "execution_count": 2,
   "id": "1f9ae052",
   "metadata": {},
   "outputs": [],
   "source": [
    "def check_wikipedia_page(city_name):\n",
    "    \"\"\"\n",
    "    Checking if a Wikipedia page for the given city exists by parsing HTML content.\n",
    "    \"\"\"\n",
    "    #Constructing the URL for city pages in Wikipedia and replacing space in city names with (_) as Wikipedia uses it in its URLs\n",
    "    url = f\"https://en.wikipedia.org/wiki/{city_name.replace(' ', '_')}\"\n",
    "    #Requesting and parsingthe HTML content of the response using BeautifulSoup and creates a soup object \n",
    "    response = requests.get(url)\n",
    "    soup = BeautifulSoup(response.text, 'html.parser')\n",
    "\n",
    "    # Checking for the \"No article text\" template or related message:Wiki uses\"No article text\" template for pages that do not exist\n",
    "    if soup.find(class_='noarticletext') or soup.find(id='noarticletext'):\n",
    "        return False\n",
    "\n",
    "    return True\n",
    "\n",
    "def validate_input(start_city, end_city):\n",
    "    \"\"\"\n",
    "    Validates if both start and end cities have Wikipedia pages.\n",
    "    \"\"\"\n",
    "    #Cheking if the cities exist on Wikipedia\n",
    "    if not check_wikipedia_page(start_city):\n",
    "        return f\"Error:No Wikipedia page found for {start_city}.\"\n",
    "    \n",
    "    if not check_wikipedia_page(end_city):\n",
    "        return f\"Error:No Wikipedia page found for {end_city}.\"\n",
    "\n",
    "    return \"Input validated:Both cities have Wikipedia pages.\"\n"
   ]
  },
  {
   "cell_type": "code",
   "execution_count": 3,
   "id": "c2280d0a",
   "metadata": {},
   "outputs": [
    {
     "name": "stdout",
     "output_type": "stream",
     "text": [
      "Input validated:Both cities have Wikipedia pages.\n"
     ]
    }
   ],
   "source": [
    "print(validate_input(\"Tehran\",\"Los Angeles\"))"
   ]
  },
  {
   "cell_type": "markdown",
   "id": "f47c4f27",
   "metadata": {},
   "source": [
    "### 2. Country Extraction\n",
    "- Extracts the country of a city from its Wikipedia page using **CSS selectors** and **XPath queries**.\n",
    "- Checks if the two cities belong to the same country, ending the program if true.\n"
   ]
  },
  {
   "cell_type": "code",
   "execution_count": 4,
   "id": "98ba88fd",
   "metadata": {},
   "outputs": [],
   "source": [
    "def extract_country(city_name):\n",
    "    \"\"\"\n",
    "    Extracting the country of the given city from its Wikipedia page.\n",
    "    \"\"\"\n",
    "    url = f\"https://en.wikipedia.org/wiki/{city_name.replace(' ', '_')}\"\n",
    "    response = requests.get(url)\n",
    "    soup = BeautifulSoup(response.text, 'html.parser')\n",
    "    \n",
    "    #Looking for 'td.infobox-data' directly containing the country\n",
    "    country_info = soup.select_one('td.infobox-data')\n",
    "    if country_info and country_info.text.strip():\n",
    "        return country_info.text.strip()\n",
    "\n",
    "    #Looking for an 'a' element within infobox containing country\n",
    "    country_link = soup.select_one('.infobox a[title]')\n",
    "    if country_link and country_link['title']:\n",
    "        return country_link['title']\n",
    "\n",
    "    return \"Country not found\""
   ]
  },
  {
   "cell_type": "code",
   "execution_count": 5,
   "id": "5facb41d",
   "metadata": {},
   "outputs": [
    {
     "name": "stdout",
     "output_type": "stream",
     "text": [
      "United States\n",
      "United States\n",
      "United Kingdom\n",
      "Iran\n"
     ]
    }
   ],
   "source": [
    "print(extract_country(\"Washington, D.C.\"))\n",
    "print(extract_country(\"Los Angeles\"))\n",
    "print(extract_country(\"London\"))\n",
    "print(extract_country(\"Tehran\"))"
   ]
  },
  {
   "cell_type": "code",
   "execution_count": 6,
   "id": "18713d98",
   "metadata": {},
   "outputs": [],
   "source": [
    "def same_country(start_city, end_city):\n",
    "    \"\"\"\n",
    "    Checks if both cities belong to the same country.\n",
    "    \"\"\"\n",
    "    start_country =extract_country(start_city)\n",
    "    end_country =extract_country(end_city)\n",
    "\n",
    "    if start_country==end_country:\n",
    "        return f\"Both cities are in the same country:{start_country}.\"\n",
    "    else:\n",
    "        return f\"Different countries:{start_city} is in {start_country}, {end_city} is in {end_country}.\""
   ]
  },
  {
   "cell_type": "code",
   "execution_count": 7,
   "id": "0065e754",
   "metadata": {},
   "outputs": [
    {
     "name": "stdout",
     "output_type": "stream",
     "text": [
      "Both cities are in the same country:United States.\n",
      "Different countries:Tehran is in Iran, Berlin is in Germany.\n"
     ]
    }
   ],
   "source": [
    "print(same_country(\"Washington, D.C.\",\"Los Angeles\"))\n",
    "print(same_country(\"Tehran\",\"Berlin\"))"
   ]
  },
  {
   "cell_type": "markdown",
   "id": "d6864407",
   "metadata": {},
   "source": [
    "### 3. Ocean Separation\n",
    "- Maps countries to their respective continents using the \"List of sovereign states and dependent territories by continent\" Wikipedia page.\n",
    "- Determines if the cities are separated by an ocean based on their continents."
   ]
  },
  {
   "cell_type": "code",
   "execution_count": 8,
   "id": "e99aa4f4",
   "metadata": {},
   "outputs": [],
   "source": [
    "def is_valid_country(country_name):\n",
    "    \"\"\"\n",
    "    Determineing if a given string is a valid country name.\n",
    "    Excludes entries like \"Member states of\" or \"Template:\".\n",
    "    \"\"\"\n",
    "    return not (\"Member states of\" in country_name or \"Template:\" in country_name)\n",
    "\n",
    "def country_continent_mapping():\n",
    "    \"\"\"\n",
    "    Maping countries to their respective continents.\n",
    "    \"\"\"\n",
    "    url = \"https://en.wikipedia.org/wiki/List_of_sovereign_states_and_dependent_territories_by_continent\"\n",
    "    response = requests.get(url)\n",
    "    soup = BeautifulSoup(response.content, 'html.parser')\n",
    "\n",
    "    country_continent_map = {}\n",
    "    continents = ['Africa', 'Asia', 'Europe', 'North America', 'South America', 'Oceania', 'Antarctica']\n",
    "\n",
    "    for continent in continents:\n",
    "        continent_headline_id = continent.replace(' ', '_')\n",
    "        continent_headline = soup.find('span', id=continent_headline_id)\n",
    "\n",
    "        if continent_headline:\n",
    "            table = continent_headline.find_next('table')\n",
    "            for row in table.find_all('tr')[1:]:\n",
    "                country_cell = row.find('td')\n",
    "                if country_cell and country_cell.a and country_cell.a.has_attr('title'):\n",
    "                    country_name = country_cell.a['title']\n",
    "                    if is_valid_country(country_name):\n",
    "                        country_continent_map[country_name] = continent\n",
    "\n",
    "    return country_continent_map\n",
    "\n",
    "# Create the country-continent mapping\n",
    "country_continent_map = country_continent_mapping()\n"
   ]
  },
  {
   "cell_type": "code",
   "execution_count": 9,
   "id": "8d66fc12",
   "metadata": {
    "scrolled": true
   },
   "outputs": [
    {
     "name": "stdout",
     "output_type": "stream",
     "text": [
      "Algeria: Africa\n",
      "Angola: Africa\n",
      "Benin: Africa\n",
      "Botswana: Africa\n",
      "Burkina Faso: Africa\n",
      "Burundi: Africa\n",
      "Cameroon: Africa\n",
      "Cape Verde: Africa\n",
      "Central African Republic: Africa\n",
      "Chad: Africa\n",
      "Comoros: Africa\n",
      "Democratic Republic of the Congo: Africa\n",
      "Republic of the Congo: Africa\n",
      "Djibouti: Africa\n",
      "Egypt: Asia\n",
      "Equatorial Guinea: Africa\n",
      "Eritrea: Africa\n",
      "Eswatini: Africa\n",
      "Ethiopia: Africa\n",
      "Gabon: Africa\n",
      "The Gambia: Africa\n",
      "Ghana: Africa\n",
      "Guinea: Africa\n",
      "Guinea-Bissau: Africa\n",
      "Ivory Coast: Africa\n",
      "Kenya: Africa\n",
      "Lesotho: Africa\n",
      "Liberia: Africa\n",
      "Libya: Africa\n",
      "Madagascar: Africa\n",
      "Malawi: Africa\n",
      "Mali: Africa\n",
      "Mauritania: Africa\n",
      "Mauritius: Africa\n",
      "Morocco: Africa\n",
      "Mozambique: Africa\n",
      "Namibia: Africa\n",
      "Niger: Africa\n",
      "Nigeria: Africa\n",
      "Rwanda: Africa\n",
      "São Tomé and Príncipe: Africa\n",
      "Senegal: Africa\n",
      "Seychelles: Africa\n",
      "Sierra Leone: Africa\n",
      "Somalia: Africa\n",
      "South Africa: Africa\n",
      "South Sudan: Africa\n",
      "Sudan: Africa\n",
      "Tanzania: Africa\n",
      "Togo: Africa\n",
      "Tunisia: Africa\n",
      "Uganda: Africa\n",
      "Zambia: Africa\n",
      "Zimbabwe: Africa\n",
      "Sahrawi Arab Democratic Republic: Africa\n",
      "Somaliland: Africa\n",
      "Dependent territory: Oceania\n",
      "Bouvet Island: Antarctica\n",
      "British Indian Ocean Territory: Asia\n",
      "French Southern and Antarctic Lands: Antarctica\n",
      "Heard Island and McDonald Islands: Antarctica\n",
      "Mayotte: Africa\n",
      "Réunion: Africa\n",
      "Saint Helena, Ascension and Tristan da Cunha: South America\n",
      "Afghanistan: Asia\n",
      "Armenia: Europe\n",
      "Azerbaijan: Europe\n",
      "Bahrain: Asia\n",
      "Bangladesh: Asia\n",
      "Bhutan: Asia\n",
      "Brunei: Asia\n",
      "Cambodia: Asia\n",
      "China: Asia\n",
      "Cyprus: Europe\n",
      "East Timor: Oceania\n",
      "Georgia (country): Europe\n",
      "India: Asia\n",
      "Indonesia: Oceania\n",
      "Iran: Asia\n",
      "Iraq: Asia\n",
      "Israel: Asia\n",
      "Japan: Asia\n",
      "Jordan: Asia\n",
      "Kazakhstan: Europe\n",
      "North Korea: Asia\n",
      "South Korea: Asia\n",
      "Kuwait: Asia\n",
      "Kyrgyzstan: Asia\n",
      "Laos: Asia\n",
      "Lebanon: Asia\n",
      "Malaysia: Asia\n",
      "Maldives: Asia\n",
      "Mongolia: Asia\n",
      "Myanmar: Asia\n",
      "Nepal: Asia\n",
      "Oman: Asia\n",
      "Pakistan: Asia\n",
      "State of Palestine: Asia\n",
      "Philippines: Asia\n",
      "Qatar: Asia\n",
      "Russia: Europe\n",
      "Saudi Arabia: Asia\n",
      "Singapore: Asia\n",
      "Sri Lanka: Asia\n",
      "Syria: Asia\n",
      "Tajikistan: Asia\n",
      "Thailand: Asia\n",
      "Turkey: Europe\n",
      "Turkmenistan: Asia\n",
      "United Arab Emirates: Asia\n",
      "Uzbekistan: Asia\n",
      "Vietnam: Asia\n",
      "Yemen: Asia\n",
      "Abkhazia: Europe\n",
      "Republic of Artsakh: Europe\n",
      "Northern Cyprus: Europe\n",
      "South Ossetia: Europe\n",
      "Taiwan: Asia\n",
      "Akrotiri and Dhekelia: Europe\n",
      "Ashmore and Cartier Islands: Oceania\n",
      "Christmas Island: Oceania\n",
      "Cocos (Keeling) Islands: Oceania\n",
      "Hong Kong: Asia\n",
      "Macau: Asia\n",
      "Albania: Europe\n",
      "Andorra: Europe\n",
      "Austria: Europe\n",
      "Belarus: Europe\n",
      "Belgium: Europe\n",
      "Bosnia and Herzegovina: Europe\n",
      "Bulgaria: Europe\n",
      "Croatia: Europe\n",
      "Czech Republic: Europe\n",
      "Denmark: Europe\n",
      "Estonia: Europe\n",
      "Finland: Europe\n",
      "France: Europe\n",
      "Germany: Europe\n",
      "Greece: Europe\n",
      "Hungary: Europe\n",
      "Iceland: Europe\n",
      "Republic of Ireland: Europe\n",
      "Italy: Europe\n",
      "Latvia: Europe\n",
      "Liechtenstein: Europe\n",
      "Lithuania: Europe\n",
      "Luxembourg: Europe\n",
      "Malta: Europe\n",
      "Moldova: Europe\n",
      "Monaco: Europe\n",
      "Montenegro: Europe\n",
      "Kingdom of the Netherlands: Europe\n",
      "North Macedonia: Europe\n",
      "Norway: Europe\n",
      "Poland: Europe\n",
      "Portugal: Europe\n",
      "Romania: Europe\n",
      "San Marino: Europe\n",
      "Serbia: Europe\n",
      "Slovakia: Europe\n",
      "Slovenia: Europe\n",
      "Spain: Europe\n",
      "Sweden: Europe\n",
      "Switzerland: Europe\n",
      "Ukraine: Europe\n",
      "United Kingdom: Europe\n",
      "Vatican City: Europe\n",
      "Kosovo: Europe\n",
      "Transnistria: Europe\n",
      "Faroe Islands: Europe\n",
      "Gibraltar: Europe\n",
      "Greenland: North America\n",
      "Bailiwick of Guernsey: Europe\n",
      "Isle of Man: Europe\n",
      "Jan Mayen: Europe\n",
      "Jersey: Europe\n",
      "Svalbard: Europe\n",
      "Åland: Europe\n",
      "Antigua and Barbuda: North America\n",
      "The Bahamas: North America\n",
      "Barbados: North America\n",
      "Belize: North America\n",
      "Canada: North America\n",
      "Costa Rica: North America\n",
      "Cuba: North America\n",
      "Dominica: North America\n",
      "Dominican Republic: North America\n",
      "El Salvador: North America\n",
      "Grenada: North America\n",
      "Guatemala: North America\n",
      "Haiti: North America\n",
      "Honduras: North America\n",
      "Jamaica: North America\n",
      "Mexico: North America\n",
      "Nicaragua: North America\n",
      "Panama: South America\n",
      "Saint Kitts and Nevis: North America\n",
      "Saint Lucia: North America\n",
      "Saint Vincent and the Grenadines: North America\n",
      "Trinidad and Tobago: South America\n",
      "United States: North America\n",
      "Anguilla: North America\n",
      "Aruba: South America\n",
      "Bermuda: North America\n",
      "Bonaire: South America\n",
      "British Virgin Islands: North America\n",
      "Cayman Islands: North America\n",
      "Clipperton Island: Oceania\n",
      "Curaçao: South America\n",
      "Guadeloupe: North America\n",
      "Martinique: North America\n",
      "Montserrat: North America\n",
      "Navassa Island: North America\n",
      "Puerto Rico: North America\n",
      "Saba (island): North America\n",
      "Saint Barthélemy: North America\n",
      "Collectivity of Saint Martin: North America\n",
      "Saint Pierre and Miquelon: North America\n",
      "Sint Eustatius: North America\n",
      "Sint Maarten: North America\n",
      "Turks and Caicos Islands: North America\n",
      "United States Virgin Islands: North America\n",
      "Argentina: South America\n",
      "Bolivia: South America\n",
      "Brazil: South America\n",
      "Chile: South America\n",
      "Colombia: South America\n",
      "Ecuador: South America\n",
      "Guyana: South America\n",
      "Paraguay: South America\n",
      "Peru: South America\n",
      "Suriname: South America\n",
      "Uruguay: South America\n",
      "Venezuela: South America\n",
      "Falkland Islands: South America\n",
      "French Guiana: South America\n",
      "South Georgia and the South Sandwich Islands: Antarctica\n",
      "Australia: Oceania\n",
      "Fiji: Oceania\n",
      "Kiribati: Oceania\n",
      "Marshall Islands: Oceania\n",
      "Federated States of Micronesia: Oceania\n",
      "Nauru: Oceania\n",
      "New Zealand: Oceania\n",
      "Palau: Oceania\n",
      "Papua New Guinea: Oceania\n",
      "Samoa: Oceania\n",
      "Solomon Islands: Oceania\n",
      "Tonga: Oceania\n",
      "Tuvalu: Oceania\n",
      "Vanuatu: Oceania\n",
      "Cook Islands: Oceania\n",
      "Niue: Oceania\n",
      "American Samoa: Oceania\n",
      "Baker Island: Oceania\n",
      "Coral Sea Islands: Oceania\n",
      "French Polynesia: Oceania\n",
      "Guam: Oceania\n",
      "Howland Island: Oceania\n",
      "Jarvis Island: Oceania\n",
      "Johnston Atoll: Oceania\n",
      "Kingman Reef: Oceania\n",
      "Midway Atoll: Oceania\n",
      "New Caledonia: Oceania\n",
      "Norfolk Island: Oceania\n",
      "Northern Mariana Islands: Oceania\n",
      "Palmyra Atoll: Oceania\n",
      "Pitcairn Islands: Oceania\n",
      "Tokelau: Oceania\n",
      "Wake Island: Oceania\n",
      "Wallis and Futuna: Oceania\n",
      "Total number of countries listed: 271\n"
     ]
    }
   ],
   "source": [
    "# Trying the  function\n",
    "country_count = 0\n",
    "for country, continent in country_continent_map.items():\n",
    "    print(f\"{country}: {continent}\")\n",
    "    country_count += 1\n",
    "\n",
    "print(f\"Total number of countries listed: {country_count}\")\n"
   ]
  },
  {
   "cell_type": "code",
   "execution_count": 10,
   "id": "627e960e",
   "metadata": {},
   "outputs": [],
   "source": [
    "\n",
    "def are_separated_by_ocean(continent1, continent2):\n",
    "    \"\"\"\n",
    "    Determining if two continents are separated by an ocean.\n",
    "    \"\"\"\n",
    "    oceans_between_continents = {\n",
    "        ('North America','Europe'):'Atlantic Ocean',\n",
    "        ('South America', 'Africa'):'Atlantic Ocean',\n",
    "        ('Europe','Africa'):'Atlantic Ocean',\n",
    "        ('Asia', 'North America'): 'Pacific Ocean',\n",
    "        ('Oceania', 'South America'): 'Pacific Ocean',\n",
    "        ('Oceania', 'North America'): 'Pacific Ocean',\n",
    "        ('Africa', 'Oceania'): 'Indian Ocean',\n",
    "        ('Asia', 'Oceania'): 'Indian Ocean',\n",
    "        ('North America', 'Antarctica'): 'Arctic Ocean',\n",
    "        ('Europe', 'Antarctica'): 'Arctic Ocean',\n",
    "        ('Asia', 'Antarctica'): 'Arctic Ocean',\n",
    "        ('Antarctica', 'Africa'): 'Southern Ocean',\n",
    "        ('Antarctica', 'Oceania'): 'Southern Ocean',\n",
    "        ('Antarctica', 'South America'): 'Southern Ocean',\n",
    "        ('Antarctica', 'Asia'): 'Southern Ocean'\n",
    "        }\n",
    "    return oceans_between_continents.get((continent1, continent2)) or oceans_between_continents.get((continent2, continent1))\n",
    "\n"
   ]
  },
  {
   "cell_type": "code",
   "execution_count": 11,
   "id": "0470894b",
   "metadata": {},
   "outputs": [],
   "source": [
    "def continents_and_ocean(city1, city2, country_continent_map):\n",
    "    \"\"\"\n",
    "    Checking if two cities are separated by an ocean.\n",
    "    \"\"\"\n",
    "    country1=extract_country(city1)\n",
    "    country2=extract_country(city2)\n",
    "    if not country1 or not country2:\n",
    "        return \"Country not found for one or both cities.\"\n",
    "    continent1 = country_continent_map.get(country1)\n",
    "    continent2 = country_continent_map.get(country2)\n",
    "    if not continent1 or not continent2:\n",
    "        return \"Continent information not found for one or both countries.\"\n",
    "    ocean = are_separated_by_ocean(continent1, continent2)\n",
    "    if ocean:\n",
    "        return f\"{city1} (in {continent1}) and {city2} (in {continent2}) are separated by the {ocean}.\"\n",
    "    else:\n",
    "        return f\"{city1} (in {continent1}) and {city2} (in {continent2}) are not separated by an ocean.\""
   ]
  },
  {
   "cell_type": "code",
   "execution_count": 12,
   "id": "48e39b52",
   "metadata": {},
   "outputs": [
    {
     "name": "stdout",
     "output_type": "stream",
     "text": [
      "Tehran (in Asia) and Los Angeles (in North America) are separated by the Pacific Ocean.\n"
     ]
    }
   ],
   "source": [
    "#Test\n",
    "city1 = \"Tehran\"\n",
    "city2 = \"Los Angeles\"\n",
    "print(continents_and_ocean(city1, city2, country_continent_map))\n"
   ]
  },
  {
   "cell_type": "code",
   "execution_count": 13,
   "id": "abbc7ff4",
   "metadata": {},
   "outputs": [
    {
     "name": "stdout",
     "output_type": "stream",
     "text": [
      "Tehran (in Asia) and Paris (in Europe) are not separated by an ocean.\n"
     ]
    }
   ],
   "source": [
    "#Test\n",
    "city1 = \"Tehran\"\n",
    "city2 = \"Paris\"\n",
    "print(continents_and_ocean(city1, city2, country_continent_map))\n"
   ]
  },
  {
   "cell_type": "markdown",
   "id": "87d43110",
   "metadata": {},
   "source": [
    "### 4. Shortest Land Route\n",
    "- Constructs a graph of countries and their neighbors from the \"List of countries and territories by number of land borders\" Wikipedia page.\n",
    "- Uses BFS to find the shortest route between the countries of the two cities.\n"
   ]
  },
  {
   "cell_type": "code",
   "execution_count": 14,
   "id": "62a3f6ea",
   "metadata": {},
   "outputs": [],
   "source": [
    "url = \"https://en.wikipedia.org/wiki/List_of_countries_and_territories_by_number_of_land_borders\"\n",
    "response = requests.get(url)\n",
    "soup = BeautifulSoup(response.content,'html.parser')"
   ]
  },
  {
   "cell_type": "code",
   "execution_count": 15,
   "id": "4ddd1cc1",
   "metadata": {},
   "outputs": [],
   "source": [
    "def parse_country_data(soup):\n",
    "    graph = {}\n",
    "\n",
    "    table = soup.find('table', {'class': 'wikitable'})\n",
    "    if not table:\n",
    "        return graph\n",
    "\n",
    "    for row in table.find_all('tr')[1:]:  # Skipping the header row\n",
    "        columns = row.find_all('td')\n",
    "        if not columns:\n",
    "            continue\n",
    "\n",
    "        country = columns[0].get_text().strip()\n",
    "        neighbors = set()\n",
    "\n",
    "        # Extracting neighbors from the last column\n",
    "        neighbor_data = columns[-1]\n",
    "        for neighbor_info in neighbor_data.find_all('a', title=True):\n",
    "            neighbor = neighbor_info.get_text().strip()\n",
    "            if neighbor and neighbor != country:  # Exclude self-references\n",
    "                neighbors.add(neighbor)\n",
    "\n",
    "        graph[country] = neighbors\n",
    "\n",
    "    return graph\n",
    "\n"
   ]
  },
  {
   "cell_type": "code",
   "execution_count": 16,
   "id": "bc628f6f",
   "metadata": {
    "scrolled": true
   },
   "outputs": [
    {
     "name": "stdout",
     "output_type": "stream",
     "text": [
      "{'Abkhazia': {'Georgia', 'Russia'}, 'Afghanistan': {\"People's Republic of China\", 'Tajikistan', 'Uzbekistan', 'Pakistan', 'Turkmenistan', 'Iran'}, 'Albania': {'Kosovo', 'Montenegro', 'Greece', 'North Macedonia'}, 'Algeria': {'Morocco', 'Mali', 'Western Sahara', 'Mauritania', 'Tunisia', 'Niger', 'Libya'}, 'Andorra': {'Spain', 'France'}, 'Angola': {'Democratic Republic of the Congo', 'Namibia', 'Republic of the Congo', 'Zambia'}, 'Antigua and Barbuda': set(), 'Argentina': {'Chile', 'Paraguay', 'Brazil', 'Bolivia', 'Uruguay'}, 'Armenia': {'Turkey', 'Georgia', 'Iran', 'Azerbaijan'}, 'Australia': set(), 'Austria': {'Germany', 'Slovakia', 'Hungary', 'Switzerland', 'Czech Republic', 'Liechtenstein', 'Slovenia', 'Italy'}, 'Azerbaijan': {'Russia', 'Iran', 'Turkey', 'Georgia', 'Armenia'}, 'Bahamas': set(), 'Bahrain': set(), 'Bangladesh': {'India', 'Dahagram-Angarpota', 'Myanmar'}, 'Barbados': set(), 'Belarus': {'Russia', 'Poland', 'Latvia', 'Lithuania', 'Ukraine'}, 'Belgium': {'France', 'Luxembourg', 'Netherlands', 'Germany'}, 'Belize': {'Guatemala', 'Mexico'}, 'Benin': {'Burkina Faso', 'Nigeria', 'Togo', 'Niger'}, 'Bhutan': {\"People's Republic of China\", 'India'}, 'Bolivia': {'Chile', 'Brazil', 'Paraguay', 'Peru', 'Argentina'}, 'Bosnia and Herzegovina': {'Montenegro', 'Serbia', 'Croatia'}, 'Botswana': {'Namibia', 'South Africa', 'Zimbabwe', 'Zambia'}, 'Brazil': {'Suriname', 'Colombia', 'Guyana', 'French Guiana', 'Venezuela', 'Paraguay', 'France', 'Bolivia', 'Peru', 'Argentina', 'Uruguay'}, 'Brunei': {'Malaysia'}, 'Bulgaria': {'Romania', 'North Macedonia', 'Turkey', 'Greece', 'Serbia'}, 'Burkina Faso': {'Mali', 'Togo', 'Benin', \"Côte d'Ivoire\", 'Ghana', 'Niger'}, 'Burundi': {'Democratic Republic of the Congo', 'Tanzania', 'Rwanda'}, 'Cambodia': {'Laos', 'Thailand', 'Vietnam'}, 'Cameroon': {'Nigeria', 'Gabon', 'Republic of the Congo', 'Equatorial Guinea', 'Chad', 'Central African Republic'}, 'Canada': {'Denmark', 'Greenland', 'United States'}, 'Cape Verde': set(), 'Central African Republic': {'Sudan', 'Democratic Republic of the Congo', 'Republic of the Congo', 'South Sudan', 'Cameroon', 'Chad'}, 'Chad': {'Sudan', 'Nigeria', 'Cameroon', 'Niger', 'Libya', 'Central African Republic'}, 'Chile': {'Bolivia', 'Peru', 'Argentina'}, \"People's Republic of China[r]\": {'Tajikistan', 'Russia', 'Afghanistan', 'Mongolia', 'Myanmar', 'Pakistan', 'Bhutan', 'Laos', 'Kazakhstan', 'Kyrgyzstan', 'Vietnam', 'Nepal', 'India', 'North Korea'}, 'Colombia': {'Panama', 'Ecuador', 'Brazil', 'Peru', 'Venezuela'}, 'Comoros': set(), 'Democratic Republic of the Congo': {'Angola', 'Uganda', 'Zambia', 'Tanzania', 'Republic of the Congo', 'Rwanda', 'South Sudan', 'Burundi', 'Central African Republic'}, 'Republic of the Congo': {'Angola', 'Gabon', 'Democratic Republic of the Congo', 'Cameroon', 'Central African Republic'}, 'Costa Rica': {'Panama', 'Nicaragua'}, \"Côte d'Ivoire\": {'Burkina Faso', 'Mali', 'Liberia', 'Ghana', 'Guinea'}, 'Croatia': {'Bosnia and Herzegovina', 'Hungary', 'Montenegro', 'Serbia', 'Slovenia'}, 'Cuba': set(), 'Cyprus': {'United Kingdom', 'Akrotiri and Dhekelia'}, 'Czech Republic': {'Slovakia', 'Austria', 'Poland', 'Germany'}, 'Denmark (constituent country)': {'Germany'}, 'Denmark, Kingdom of →includes:\\n→\\xa0Denmark (constituent country)→\\xa0Faroe Islands→\\xa0Greenland': {'Canada', 'Germany'}, 'Djibouti': {'Somaliland', 'Eritrea', 'Ethiopia'}, 'Dominica': set(), 'Dominican Republic': {'Haiti'}, 'East Timor': {'Indonesia'}, 'Ecuador': {'Colombia', 'Peru'}, 'Egypt': {'Sudan', 'Israel', 'State of Palestine', 'Gaza Strip', 'Libya'}, 'El Salvador': {'Guatemala', 'Honduras'}, 'Equatorial Guinea': {'Cameroon', 'Gabon'}, 'Eritrea': {'Sudan', 'Ethiopia', 'Djibouti'}, 'Estonia': {'Russia', 'Latvia'}, 'Eswatini': {'South Africa', 'Mozambique'}, 'Ethiopia': {'Sudan', 'South Sudan', 'Djibouti', 'Kenya', 'Somalia', 'Eritrea'}, 'Fiji': set(), 'Finland': {'Norway', 'Sweden', 'Russia'}, 'France, Metropolitan': {'Germany', 'Belgium', 'Andorra', 'Spain', 'Luxembourg', 'Switzerland', 'Monaco', 'Italy'}, 'France (including French overseas departments, collectivities, and territories) →includes:\\n→\\xa0Clipperton Island→\\xa0French Guiana→\\xa0French Polynesia→\\xa0French Southern and Antarctic Lands[x]→\\xa0Guadeloupe→\\xa0Martinique→\\xa0Mayotte→\\xa0Metropolitan France→\\xa0New Caledonia→\\xa0Réunion→\\xa0Saint Barthélemy→\\xa0Saint Martin→\\xa0Saint Pierre and Miquelon→\\xa0Wallis and Futuna': {'Suriname', 'Netherlands', 'Germany', 'Sint Maarten', 'Belgium', 'Andorra', 'Spain', 'Luxembourg', 'Switzerland', 'Brazil', 'Monaco', 'Italy'}, 'Gabon': {'Cameroon', 'Equatorial Guinea', 'Republic of the Congo'}, 'The Gambia': {'Senegal'}, 'Georgia': {'Abkhazia', 'Russia', 'Turkey', 'Armenia', 'South Ossetia', 'Azerbaijan'}, 'Germany': {'Austria', 'Netherlands', 'Poland', 'Denmark', 'Belgium', 'Luxembourg', 'Czech Republic', 'Switzerland', 'France'}, 'Ghana': {'Burkina Faso', 'Togo', \"Côte d'Ivoire\"}, 'Greece': {'Bulgaria', 'Turkey', 'Albania', 'North Macedonia'}, 'Grenada': set(), 'Guatemala': {'El Salvador', 'Belize', 'Mexico', 'Honduras'}, 'Guinea': {'Sierra Leone', 'Mali', 'Senegal', 'Guinea-Bissau', 'Liberia', \"Côte d'Ivoire\"}, 'Guinea-Bissau': {'Guinea', 'Senegal'}, 'Guyana': {'Suriname', 'Brazil', 'Venezuela'}, 'Haiti': {'Dominican Republic'}, 'Honduras': {'Guatemala', 'El Salvador', 'Nicaragua'}, 'Hong Kong[ac]': {\"People's Republic of China\"}, 'Hungary': {'Romania', 'Austria', 'Croatia', 'Slovakia', 'Serbia', 'Slovenia', 'Ukraine'}, 'Iceland': set(), 'India': {'Borders of India', \"People's Republic of China\", 'Sri Lanka', 'Myanmar', 'Pakistan', 'Bhutan', 'Nepal', 'Ram Setu', 'Bangladesh'}, 'Indonesia': {'Malaysia', 'East Timor', 'Papua New Guinea'}, 'Iran': {'Afghanistan', 'Pakistan', 'Turkmenistan', 'Turkey', 'Armenia', 'Iraq', 'Azerbaijan'}, 'Iraq': {'Jordan', 'Iran', 'Turkey', 'Saudi Arabia', 'Syria', 'Kuwait'}, 'Ireland': {'United Kingdom'}, 'Israel': {'Jordan', 'state of Palestine', 'State of Palestine', 'Lebanon', 'Gaza Strip', 'Egypt', 'Syria', 'West Bank'}, 'Italy': {'Vatican City', 'Austria', 'Switzerland', 'San Marino', 'France', 'Slovenia'}, 'Jamaica': set(), 'Japan': set(), 'Jordan': {'Israel', 'State of Palestine', 'Iraq', 'Saudi Arabia', 'Syria', 'West Bank'}, 'Kazakhstan': {\"People's Republic of China\", 'Uzbekistan', 'Russia', 'Turkmenistan', 'Kyrgyzstan'}, 'Kenya': {'Uganda', 'Ethiopia', 'Tanzania', 'South Sudan', 'Somalia'}, 'Kiribati': set(), 'North Korea': {\"People's Republic of China\", 'Russia', 'South Korea'}, 'South Korea': {'North Korea'}, 'Kosovo[c]': {'Montenegro', 'Serbia', 'Albania', 'North Macedonia'}, 'Kuwait': {'Saudi Arabia', 'Iraq'}, 'Kyrgyzstan': {\"People's Republic of China\", 'Kazakhstan', 'Tajikistan', 'Uzbekistan'}, 'Laos': {\"People's Republic of China\", 'Myanmar', 'Thailand', 'Vietnam', 'Cambodia'}, 'Latvia': {'Belarus', 'Estonia', 'Russia', 'Lithuania'}, 'Lebanon': {'Israel', 'Syria'}, 'Lesotho': {'South Africa'}, 'Liberia': {'Sierra Leone', 'Guinea', \"Côte d'Ivoire\"}, 'Libya': {'Sudan', 'Algeria', 'Tunisia', 'Egypt', 'Niger', 'Chad'}, 'Liechtenstein': {'Switzerland', 'Austria'}, 'Lithuania': {'Belarus', 'Russia', 'Poland', 'Latvia'}, 'Luxembourg': {'France', 'Belgium', 'Germany'}, \"Macau[ah] (People's Republic of China)\": {\"People's Republic of China\"}, 'Madagascar': set(), 'Madeira[ai] (Portugal)': set(), 'Malawi': {'Tanzania', 'Mozambique', 'Zambia'}, 'Malaysia': {'Indonesia', 'Thailand', 'Brunei'}, 'Maldives': set(), 'Mali': {'Burkina Faso', 'Senegal', 'Mauritania', 'Algeria', \"Côte d'Ivoire\", 'Niger', 'Guinea'}, 'Malta': set(), 'Marshall Islands': set(), 'Mauritania': {'Mali', 'Senegal', 'Western Sahara', 'Algeria'}, 'Mauritius': set(), 'Mexico': {'Guatemala', 'Belize', 'United States'}, 'Federated States of Micronesia': set(), 'Moldova': {'Romania', 'Ukraine'}, 'Monaco': {'France'}, 'Mongolia': {\"People's Republic of China\", 'Russia'}, 'Montenegro': {'Bosnia and Herzegovina', 'Albania', 'Croatia', 'Kosovo', 'Serbia'}, 'Morocco': {'Spain', 'Western Sahara', 'Algeria'}, 'Mozambique': {'Zimbabwe', 'South Africa', 'Tanzania', 'Eswatini', 'Malawi', 'Zambia'}, 'Myanmar': {\"People's Republic of China\", 'Laos', 'Thailand', 'India', 'Bangladesh'}, 'Namibia': {'Angola', 'Botswana', 'South Africa', 'Zambia'}, 'Nauru': set(), 'Nepal': {\"People's Republic of China\", 'India'}, 'Netherlands (constituent country)': {'Belgium', 'Germany'}, 'Netherlands, Kingdom of →includes:\\n→\\xa0Aruba→\\xa0Curaçao→\\xa0Netherlands (constituent country) (including Caribbean Netherlands)→\\xa0Sint Maarten': {'France', 'Belgium', 'Germany', 'Saint Martin'}, 'New Zealand': set(), 'Nicaragua': {'Costa Rica', 'Honduras'}, 'Niger': {'Burkina Faso', 'Mali', 'Nigeria', 'Algeria', 'Benin', 'Libya', 'Chad'}, 'Nigeria': {'Cameroon', 'Niger', 'Benin', 'Chad'}, 'North Macedonia': {'Albania', 'Kosovo', 'Greece', 'Bulgaria', 'Serbia'}, 'Norway': {'Finland', 'Sweden', 'Russia'}, 'Oman': {'Saudi Arabia', 'United Arab Emirates', 'Yemen'}, 'Pakistan': {'India', 'Iran', \"People's Republic of China\", 'Afghanistan'}, 'Palau': set(), 'Palestine[v]': {'Jordan', 'Egypt', 'Israel'}, 'Panama': {'Costa Rica', 'Colombia'}, 'Papua New Guinea': {'Indonesia'}, 'Paraguay': {'Brazil', 'Bolivia', 'Argentina'}, 'Peru': {'Chile', 'Colombia', 'Ecuador', 'Brazil', 'Bolivia'}, 'Philippines': set(), 'Poland': {'Russia', 'Germany', 'Slovakia', 'Belarus', 'Czech Republic', 'Lithuania', 'Ukraine'}, 'Portugal': {'Spain'}, 'Qatar': {'Saudi Arabia'}, 'Romania': {'Moldova', 'Hungary', 'Bulgaria', 'Serbia', 'Ukraine'}, 'Russia': {\"People's Republic of China\", 'Poland', 'Mongolia', 'Finland', 'Belarus', 'Georgia', 'Estonia', 'Kazakhstan', 'Latvia', 'Norway', 'North Korea', 'Azerbaijan', 'Lithuania', 'Ukraine'}, 'Rwanda': {'Democratic Republic of the Congo', 'Burundi', 'Tanzania', 'Uganda'}, 'Saint Kitts and Nevis': set(), 'Saint Lucia': set(), 'Saint Vincent and the Grenadines': set(), 'Samoa': set(), 'San Marino': {'Italy'}, 'São Tomé and Príncipe': set(), 'Saudi Arabia': {'Jordan', 'Oman', 'Yemen', 'United Arab Emirates', 'Qatar', 'Iraq', 'Kuwait'}, 'Senegal': {'Mali', 'Mauritania', 'Guinea-Bissau', 'The Gambia', 'Guinea'}, 'Serbia': {'Bosnia and Herzegovina', 'Romania', 'Croatia', 'North Macedonia', 'Hungary', 'Kosovo', 'Montenegro', 'Bulgaria'}, 'Seychelles': set(), 'Sierra Leone': {'Guinea', 'Liberia'}, 'Singapore': set(), 'Slovakia': {'Austria', 'Poland', 'Hungary', 'Czech Republic', 'Ukraine'}, 'Slovenia': {'Hungary', 'Italy', 'Austria', 'Croatia'}, 'Solomon Islands': set(), 'Somalia': {'Kenya', 'Ethiopia', 'Djibouti'}, 'South Africa': {'Namibia', 'Zimbabwe', 'Mozambique', 'Botswana', 'Lesotho', 'Eswatini'}, 'South Ossetia[an]': {'Georgia', 'Russia'}, 'South Sudan': {'Sudan', 'Uganda', 'Ethiopia', 'Democratic Republic of the Congo', 'Kenya', 'Central African Republic'}, 'Spain': {'Morocco', 'Andorra', 'Portugal', 'France', 'Gibraltar'}, 'Sri Lanka': set(), 'Sudan': {'Ethiopia', 'South Sudan', 'Egypt', 'Libya', 'Eritrea', 'Chad', 'Central African Republic'}, 'Suriname': {'France', 'Brazil', 'Guyana', 'French Guiana'}, 'Sweden': {'Norway', 'Finland', 'Åland'}, 'Switzerland': {'Austria', 'Germany', 'Liechtenstein', 'France', 'Italy'}, 'Syria': {'Jordan', 'Israel', 'Turkey', 'Lebanon', 'Iraq'}, 'Taiwan': set(), 'Tajikistan': {\"People's Republic of China\", 'Kyrgyzstan', 'Uzbekistan', 'Afghanistan'}, 'Tanzania': {'Mozambique', 'Uganda', 'Democratic Republic of the Congo', 'Rwanda', 'Burundi', 'Kenya', 'Malawi', 'Zambia'}, 'Thailand': {'Laos', 'Malaysia', 'Cambodia', 'Myanmar'}, 'Togo': {'Burkina Faso', 'Benin', 'Ghana'}, 'Tonga': set(), 'Trinidad and Tobago': set(), 'Tunisia': {'Libya', 'Algeria'}, 'Turkey': {'Syria', 'Iran', 'Georgia', 'Greece', 'Bulgaria', 'Armenia', 'Iraq', 'Azerbaijan'}, 'Turkmenistan': {'Kazakhstan', 'Iran', 'Uzbekistan', 'Afghanistan'}, 'Tuvalu': set(), 'Uganda': {'Democratic Republic of the Congo', 'Tanzania', 'Rwanda', 'South Sudan', 'Kenya'}, 'Ukraine': {'Romania', 'Russia', 'Poland', 'Slovakia', 'Moldova', 'Hungary', 'Belarus'}, 'United Arab Emirates': {'Oman', 'Saudi Arabia'}, 'United Kingdom[ap]\\n→includes:\\n→\\xa0England→\\xa0Northern Ireland→\\xa0Scotland→\\xa0Wales': {'Ireland'}, 'United Kingdom (plus British Overseas Territories and Crown Dependencies) →includes:\\n→\\xa0Akrotiri and Dhekelia→\\xa0Anguilla→\\xa0Bermuda→\\xa0British Indian Ocean Territory→\\xa0British Virgin Islands→\\xa0Cayman Islands→\\xa0England→\\xa0Falkland Islands→\\xa0Gibraltar→\\xa0Guernsey→\\xa0Isle of Man→\\xa0Jersey→\\xa0Montserrat→\\xa0Northern Ireland→\\xa0Pitcairn Islands→\\xa0Saint Helena, Ascension and Tristan da Cunha→\\xa0Scotland→\\xa0South Georgia and the South Sandwich Islands→\\xa0Turks and Caicos Islands→\\xa0Wales': {'Spain', 'Ireland', 'Cyprus'}, 'United States': {'Mexico', 'Canada'}, 'Uruguay': {'Brazil', 'Argentina'}, 'Uzbekistan': {'Tajikistan', 'Afghanistan', 'Turkmenistan', 'Kazakhstan', 'Kyrgyzstan'}, 'Vanuatu': set(), 'Vatican City': {'Italy'}, 'Venezuela': {'Brazil', 'Colombia', 'Guyana'}, 'Vietnam': {'Laos', \"People's Republic of China\", 'Cambodia'}, 'Western Sahara[d]': {'Morocco', 'Mauritania', 'Algeria'}, 'Yemen': {'Oman', 'Saudi Arabia'}, 'Zambia': {'Angola', 'Namibia', 'Zimbabwe', 'Mozambique', 'Democratic Republic of the Congo', 'Botswana', 'Tanzania', 'Malawi'}, 'Zimbabwe': {'Botswana', 'South Africa', 'Mozambique', 'Zambia'}}\n"
     ]
    }
   ],
   "source": [
    "country_graph=parse_country_data(soup)\n",
    "print(country_graph)"
   ]
  },
  {
   "cell_type": "code",
   "execution_count": 17,
   "id": "bfb7aca7",
   "metadata": {},
   "outputs": [],
   "source": [
    "def bfs(graph,start,goal):\n",
    "    # Initialize a set to track visited nodes and a queue with the starting node.\n",
    "    visited = set()\n",
    "    queue = deque([[start]])\n",
    "\n",
    "    while queue:\n",
    "        path = queue.popleft()\n",
    "        node = path[-1]\n",
    "\n",
    "        if node == goal:\n",
    "            return path\n",
    "\n",
    "        if node not in visited:\n",
    "            visited.add(node)\n",
    "\n",
    "            for neighbor in graph.get(node, []):\n",
    "                new_path = list(path)\n",
    "                new_path.append(neighbor)\n",
    "                queue.append(new_path)\n",
    "\n",
    "    return None\n"
   ]
  },
  {
   "cell_type": "code",
   "execution_count": 18,
   "id": "8919474e",
   "metadata": {},
   "outputs": [],
   "source": [
    "def find_route(start_country, end_country, graph):\n",
    "    route=bfs(graph,start_country,end_country)\n",
    "    if route:\n",
    "        return \" -> \".join(route)\n",
    "    else:\n",
    "        return \"No route found\""
   ]
  },
  {
   "cell_type": "code",
   "execution_count": 19,
   "id": "0934294f",
   "metadata": {},
   "outputs": [
    {
     "name": "stdout",
     "output_type": "stream",
     "text": [
      "Italy -> Austria -> Hungary -> Romania -> Bulgaria -> Turkey -> Syria -> Israel -> Egypt -> Libya -> Algeria -> Morocco\n"
     ]
    }
   ],
   "source": [
    "#Test\n",
    "start_country = \"Italy\"\n",
    "end_country = \"Morocco\"\n",
    "route = find_route(start_country, end_country, country_graph)\n",
    "print(route)\n"
   ]
  },
  {
   "cell_type": "code",
   "execution_count": 20,
   "id": "673671e8",
   "metadata": {},
   "outputs": [
    {
     "name": "stdout",
     "output_type": "stream",
     "text": [
      "Malaysia -> Thailand -> Myanmar -> India -> Pakistan -> Iran -> Azerbaijan -> Russia -> Poland -> Germany -> France\n"
     ]
    }
   ],
   "source": [
    "start_country = \"Malaysia\"\n",
    "end_country = \"France\"\n",
    "route =find_route(start_country, end_country, country_graph)\n",
    "print(route)"
   ]
  },
  {
   "cell_type": "markdown",
   "id": "b2727d00",
   "metadata": {},
   "source": [
    "### 5. Country Insights\n",
    "- For each country in the route, extracts:\n",
    "  - Total area\n",
    "  - Population\n",
    "  - GDP\n",
    "- Compares the countries to identify the largest, most populous, and richest."
   ]
  },
  {
   "cell_type": "code",
   "execution_count": 2,
   "id": "f07a0515",
   "metadata": {},
   "outputs": [],
   "source": [
    "def get_country_info(country_url):\n",
    "    response = requests.get(country_url)\n",
    "    tree = html.fromstring(response.content)\n",
    "\n",
    "    def extract_first_or_none(xpath_query):\n",
    "        results = tree.xpath(xpath_query)\n",
    "        return ' '.join(results[0].strip().split()) if results else \"Not available\"\n",
    "\n",
    "    country_name_xpath = \"//div[@class='fn org country-name']/text()\"\n",
    "    country_name = extract_first_or_none(country_name_xpath)\n",
    "\n",
    "    area_xpath = \"//th[contains(., 'Total')]/following-sibling::td/text()\"\n",
    "    area = extract_first_or_none(area_xpath)\n",
    "\n",
    "    population_xpath = \"//th[contains(., 'Population')]/../following-sibling::tr[1]//td/text()\"\n",
    "    population = extract_first_or_none(population_xpath)\n",
    "\n",
    "    gdp_xpath = \"//th[contains(., 'Total') and following-sibling::td[contains(text(), '$')]]/following-sibling::td/text()\"\n",
    "    gdp = extract_first_or_none(gdp_xpath)\n",
    "\n",
    "    return f\"The country {country_name} has an area of {area}, a population of {population}, and a total GDP of {gdp}.\""
   ]
  },
  {
   "cell_type": "code",
   "execution_count": 22,
   "id": "e7b6831f",
   "metadata": {},
   "outputs": [
    {
     "data": {
      "text/plain": [
       "'The country French Republic has an area of 643,801 km, a population of 68,042,591, and a total GDP of $3.868 trillion.'"
      ]
     },
     "execution_count": 22,
     "metadata": {},
     "output_type": "execute_result"
    }
   ],
   "source": [
    "#Test\n",
    "france_url = 'https://en.wikipedia.org/wiki/France'\n",
    "get_country_info(france_url)\n",
    "\n"
   ]
  },
  {
   "cell_type": "code",
   "execution_count": 23,
   "id": "ec4c5949",
   "metadata": {},
   "outputs": [],
   "source": [
    "#Using all previous steps here\n",
    "def walk_the_world(start_city, end_city):\n",
    "    # Validate city existence\n",
    "    if not check_wikipedia_page(start_city) or not check_wikipedia_page(end_city):\n",
    "        return f\"Error: One or both cities do not have a Wikipedia page.\"\n",
    "\n",
    "    # Extracting countries\n",
    "    start_country = extract_country(start_city)\n",
    "    end_country = extract_country(end_city)\n",
    "\n",
    "    # Checking if in the same country\n",
    "    if start_country == end_country:\n",
    "        return f\"Both cities are in the same country: {start_country}.\"\n",
    "\n",
    "    # Determining continents and ocean separation\n",
    "    country_continent_map = country_continent_mapping()\n",
    "    ocean_check = continents_and_ocean(start_city, end_city, country_continent_map)\n",
    "    if \"separated by the\" in ocean_check:\n",
    "        return ocean_check  # Ocean separates the cities\n",
    "\n",
    "    # Finding the walking route\n",
    "    country_graph = parse_country_data(soup)  # soup should be defined with the appropriate URL\n",
    "    route = find_route(start_country, end_country, country_graph)\n",
    "    if not route:\n",
    "        return \"No walkable route found.\"\n",
    "\n",
    "    # Gathering country information along the route\n",
    "    route_info = \"\"\n",
    "    for country in route.split(\" -> \"):\n",
    "        country_url = f'https://en.wikipedia.org/wiki/{country.replace(\" \", \"_\")}'\n",
    "        route_info += get_country_info(country_url) + \"\\n\"\n",
    "\n",
    "    return f\"To walk from {start_city} in {start_country} to {end_city} in {end_country},the shortest land route is through {route}. \\n\\nCountry Information:\\n{route_info}\"\n",
    "\n"
   ]
  },
  {
   "cell_type": "code",
   "execution_count": 24,
   "id": "fea6f9b8",
   "metadata": {},
   "outputs": [
    {
     "name": "stdout",
     "output_type": "stream",
     "text": [
      "To walk from Tehran in Iran to Paris in France,the shortest land route is through Iran -> Azerbaijan -> Russia -> Poland -> Germany -> France. \n",
      "\n",
      "Country Information:\n",
      "The country Islamic Republic of Iran has an area of 1,648,195 km, a population of 87,590,873, and a total GDP of $1.726 trillion.\n",
      "The country Republic of Azerbaijan has an area of 86,600 km, a population of 10,353,296, and a total GDP of $192.146 billion.\n",
      "The country Russian Federation has an area of 17,098,246 km, a population of (, and a total GDP of $5.056 trillion.\n",
      "The country Republic of Poland has an area of 312,700 km, a population of 38,036,118, and a total GDP of $1.712 trillion.\n",
      "The country Federal Republic of Germany has an area of 357,600 km, a population of 84,482,267, and a total GDP of $5.537 trillion.\n",
      "The country French Republic has an area of 643,801 km, a population of 68,042,591, and a total GDP of $3.868 trillion.\n",
      "\n"
     ]
    }
   ],
   "source": [
    "# Example\n",
    "print(walk_the_world(\"Tehran\", \"Paris\"))"
   ]
  },
  {
   "cell_type": "markdown",
   "id": "282bb1f4",
   "metadata": {},
   "source": [
    "## Conclusion\n",
    "The `Walk the World` project demonstrates:\n",
    "- How to use web scraping to extract structured geographic data from Wikipedia.\n",
    "- How graph traversal (BFS) can be applied to real-world problems like route planning.\n",
    "- Insights into global geography, such as land border connections and continent separation by oceans.\n",
    "\n",
    "This project highlights the power of combining programming with geography for solving intriguing problems.\n"
   ]
  }
 ],
 "metadata": {
  "kernelspec": {
   "display_name": "Python 3 (ipykernel)",
   "language": "python",
   "name": "python3"
  },
  "language_info": {
   "codemirror_mode": {
    "name": "ipython",
    "version": 3
   },
   "file_extension": ".py",
   "mimetype": "text/x-python",
   "name": "python",
   "nbconvert_exporter": "python",
   "pygments_lexer": "ipython3",
   "version": "3.9.16"
  }
 },
 "nbformat": 4,
 "nbformat_minor": 5
}
